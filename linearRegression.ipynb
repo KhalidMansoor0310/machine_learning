{
 "cells": [
  {
   "cell_type": "markdown",
   "id": "06b44f40",
   "metadata": {},
   "source": [
    "# import libraries"
   ]
  },
  {
   "cell_type": "code",
   "execution_count": 3,
   "id": "c6767b40",
   "metadata": {},
   "outputs": [],
   "source": [
    "import numpy as np\n",
    "import matplotlib.pyplot as plt\n",
    "from sklearn import datasets,linear_model\n",
    "from sklearn.metrics import  mean_squared_error\n",
    "import pandas as pd"
   ]
  },
  {
   "cell_type": "markdown",
   "id": "cdf1961f",
   "metadata": {},
   "source": [
    "# Finding house price in banglore"
   ]
  },
  {
   "cell_type": "code",
   "execution_count": 17,
   "id": "9e1b53c4",
   "metadata": {},
   "outputs": [],
   "source": [
    "import pandas as pd\n",
    "\n",
    "# load data\n",
    "path = r\"https://drive.google.com/uc?export=download&id=1xxDtrZKfuWQfl-6KA9XEd_eatitNPnkB\" \n",
    "df = pd.read_csv(path)\n",
    "df.head()\n",
    "\n",
    "X = df.drop('price',axis=1)\n",
    "y = df['price']\n"
   ]
  },
  {
   "cell_type": "code",
   "execution_count": 11,
   "id": "dfa8017a",
   "metadata": {},
   "outputs": [
    {
     "name": "stdout",
     "output_type": "stream",
     "text": [
      "x_train data: (5696, 107)\n",
      "x_test data (1424, 107)\n",
      "y_train data (5696,)\n",
      "y_test data (5696,)\n"
     ]
    }
   ],
   "source": [
    "from sklearn.model_selection import train_test_split\n",
    "X_train,X_test,y_train,y_test = train_test_split(X,y,test_size = 0.2,random_state = 51)\n",
    "print(\"x_train data:\",X_train.shape)\n",
    "print(\"x_test data\",X_test.shape)\n",
    "print(\"y_train data\",y_train.shape)\n",
    "print('y_test data',y_train.shape)"
   ]
  },
  {
   "cell_type": "code",
   "execution_count": 12,
   "id": "fcf1563c",
   "metadata": {},
   "outputs": [
    {
     "name": "stdout",
     "output_type": "stream",
     "text": [
      "[ 76.90661876  15.25005377 113.6828165  ...  21.30296864  71.43462962\n",
      " 230.0414626 ]\n",
      "2435     80.00\n",
      "3113     40.00\n",
      "426     120.00\n",
      "1124     79.00\n",
      "1161     45.00\n",
      "         ...  \n",
      "2078     28.34\n",
      "6855     84.00\n",
      "4381     32.00\n",
      "3862     63.00\n",
      "43      180.00\n",
      "Name: price, Length: 1424, dtype: float64\n"
     ]
    },
    {
     "data": {
      "text/plain": [
       "0.7903837092681175"
      ]
     },
     "execution_count": 12,
     "metadata": {},
     "output_type": "execute_result"
    }
   ],
   "source": [
    "from sklearn.linear_model import LinearRegression\n",
    "model = LinearRegression()\n",
    " \n",
    "model.fit(X_train, y_train)\n",
    " \n",
    "# print(model.coef_)\n",
    " \n",
    "# print(model.intercept_)\n",
    " \n",
    "\"\"\"## Predict the value of Home and Test\"\"\"\n",
    "\n",
    " \n",
    "print(model.predict(X_test))\n",
    " \n",
    "print(y_test)\n",
    " \n",
    "model.score(X_test, y_test)"
   ]
  },
  {
   "cell_type": "markdown",
   "id": "f3cd47df",
   "metadata": {},
   "source": [
    "## Saving and loading model"
   ]
  },
  {
   "cell_type": "code",
   "execution_count": 23,
   "id": "6542270d",
   "metadata": {},
   "outputs": [
    {
     "data": {
      "text/plain": [
       "-127.23946860109288"
      ]
     },
     "execution_count": 23,
     "metadata": {},
     "output_type": "execute_result"
    }
   ],
   "source": [
    "import pickle\n",
    "\n",
    "with open('house_price_pickle','wb') as file:\n",
    "    pickle.dump(model,file)\n",
    "\n",
    "# now if we wanna read that file then its in binary so then\n",
    "with open('house_price_pickle','rb') as f:\n",
    "    model_pickle = pickle.load(f)\n",
    "\n",
    "model_pickle.coef_\n",
    "model_pickle.intercept_"
   ]
  },
  {
   "cell_type": "code",
   "execution_count": 30,
   "id": "78112ce8",
   "metadata": {},
   "outputs": [
    {
     "data": {
      "text/plain": [
       "-127.23946860109288"
      ]
     },
     "execution_count": 30,
     "metadata": {},
     "output_type": "execute_result"
    }
   ],
   "source": [
    "import joblib\n",
    "\n",
    "joblib.dump(model,'house_price_joblib')\n",
    "\n",
    "\n",
    "# now load model and predict some other values you want\n",
    "model_joblib = joblib.load('house_price_joblib')\n",
    "model_joblib.coef_\n",
    "model_joblib.intercept_"
   ]
  },
  {
   "cell_type": "code",
   "execution_count": null,
   "id": "6931689b",
   "metadata": {},
   "outputs": [],
   "source": []
  },
  {
   "cell_type": "code",
   "execution_count": null,
   "id": "9af4fac1",
   "metadata": {},
   "outputs": [],
   "source": []
  },
  {
   "cell_type": "code",
   "execution_count": null,
   "id": "d37cc013",
   "metadata": {},
   "outputs": [],
   "source": []
  },
  {
   "cell_type": "code",
   "execution_count": null,
   "id": "1073ed73",
   "metadata": {},
   "outputs": [],
   "source": []
  },
  {
   "cell_type": "code",
   "execution_count": null,
   "id": "1c9cd0a8",
   "metadata": {},
   "outputs": [],
   "source": []
  },
  {
   "cell_type": "code",
   "execution_count": null,
   "id": "96af30c1",
   "metadata": {},
   "outputs": [],
   "source": []
  },
  {
   "cell_type": "markdown",
   "id": "157de501",
   "metadata": {},
   "source": [
    "## Now we have to save the trained model"
   ]
  },
  {
   "cell_type": "code",
   "execution_count": null,
   "id": "5feb645e",
   "metadata": {},
   "outputs": [],
   "source": []
  },
  {
   "cell_type": "code",
   "execution_count": null,
   "id": "9b3b9eb7",
   "metadata": {},
   "outputs": [],
   "source": []
  }
 ],
 "metadata": {
  "kernelspec": {
   "display_name": "Python 3",
   "language": "python",
   "name": "python3"
  },
  "language_info": {
   "codemirror_mode": {
    "name": "ipython",
    "version": 3
   },
   "file_extension": ".py",
   "mimetype": "text/x-python",
   "name": "python",
   "nbconvert_exporter": "python",
   "pygments_lexer": "ipython3",
   "version": "3.8.8"
  }
 },
 "nbformat": 4,
 "nbformat_minor": 5
}
