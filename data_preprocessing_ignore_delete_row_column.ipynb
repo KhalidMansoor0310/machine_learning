{
 "cells": [
  {
   "cell_type": "code",
   "execution_count": null,
   "id": "56b42ad4",
   "metadata": {},
   "outputs": [],
   "source": []
  },
  {
   "cell_type": "code",
   "execution_count": 4,
   "id": "d94e7d9f",
   "metadata": {},
   "outputs": [],
   "source": [
    "import numpy as np\n",
    "import pandas as pd\n",
    "import matplotlib.pyplot as plt\n",
    "import seaborn as sns\n",
    "\n",
    "# loading dataset\n",
    "df = pd.read_csv('C:/Users/LENOVO/Downloads/train.csv')\n",
    "# df.head()"
   ]
  },
  {
   "cell_type": "code",
   "execution_count": 3,
   "id": "da5863ff",
   "metadata": {
    "scrolled": true
   },
   "outputs": [],
   "source": [
    "# df.tail()"
   ]
  },
  {
   "cell_type": "code",
   "execution_count": 13,
   "id": "09e1c7bd",
   "metadata": {
    "scrolled": true
   },
   "outputs": [],
   "source": [
    "# used to show All Columns\n",
    "display_all_cols = pd.set_option('display.max_columns',None)\n",
    "#use to show all rows\n",
    "# display_all_rows = pd.set_option('display.max_rows',None)\n",
    "display_all_cols"
   ]
  },
  {
   "cell_type": "code",
   "execution_count": 14,
   "id": "d0af6466",
   "metadata": {},
   "outputs": [
    {
     "name": "stdout",
     "output_type": "stream",
     "text": [
      "<class 'pandas.core.frame.DataFrame'>\n",
      "RangeIndex: 1460 entries, 0 to 1459\n",
      "Data columns (total 81 columns):\n",
      " #   Column         Non-Null Count  Dtype  \n",
      "---  ------         --------------  -----  \n",
      " 0   Id             1460 non-null   int64  \n",
      " 1   MSSubClass     1455 non-null   float64\n",
      " 2   MSZoning       1458 non-null   object \n",
      " 3   LotFrontage    1198 non-null   float64\n",
      " 4   LotArea        1456 non-null   float64\n",
      " 5   Street         1460 non-null   object \n",
      " 6   Alley          92 non-null     object \n",
      " 7   LotShape       1460 non-null   object \n",
      " 8   LandContour    1460 non-null   object \n",
      " 9   Utilities      1460 non-null   object \n",
      " 10  Unnamed: 10    1460 non-null   object \n",
      " 11  LandSlope      1460 non-null   object \n",
      " 12  Neighborhood   1460 non-null   object \n",
      " 13  Condition1     1460 non-null   object \n",
      " 14  Condition2     1460 non-null   object \n",
      " 15  BldgType       1460 non-null   object \n",
      " 16  HouseStyle     1460 non-null   object \n",
      " 17  OverallQual    1460 non-null   int64  \n",
      " 18  OverallCond    1460 non-null   int64  \n",
      " 19  YearBuilt      1460 non-null   int64  \n",
      " 20  YearRemodAdd   1460 non-null   int64  \n",
      " 21  RoofStyle      1460 non-null   object \n",
      " 22  RoofMatl       1460 non-null   object \n",
      " 23  Exterior1st    1460 non-null   object \n",
      " 24  Exterior2nd    1460 non-null   object \n",
      " 25  MasVnrType     1452 non-null   object \n",
      " 26  MasVnrArea     1452 non-null   float64\n",
      " 27  ExterQual      1460 non-null   object \n",
      " 28  ExterCond      1460 non-null   object \n",
      " 29  Foundation     1460 non-null   object \n",
      " 30  BsmtQual       1423 non-null   object \n",
      " 31  BsmtCond       1423 non-null   object \n",
      " 32  BsmtExposure   1422 non-null   object \n",
      " 33  BsmtFinType1   1423 non-null   object \n",
      " 34  BsmtFinSF1     1460 non-null   int64  \n",
      " 35  BsmtFinType2   1422 non-null   object \n",
      " 36  BsmtFinSF2     1460 non-null   int64  \n",
      " 37  BsmtUnfSF      1460 non-null   int64  \n",
      " 38  TotalBsmtSF    1460 non-null   int64  \n",
      " 39  Heating        1460 non-null   object \n",
      " 40  HeatingQC      1460 non-null   object \n",
      " 41  CentralAir     1460 non-null   object \n",
      " 42  Electrical     1459 non-null   object \n",
      " 43  1stFlrSF       1460 non-null   int64  \n",
      " 44  2ndFlrSF       1460 non-null   int64  \n",
      " 45  LowQualFinSF   1460 non-null   int64  \n",
      " 46  GrLivArea      1460 non-null   int64  \n",
      " 47  BsmtFullBath   1460 non-null   int64  \n",
      " 48  BsmtHalfBath   1460 non-null   int64  \n",
      " 49  FullBath       1460 non-null   int64  \n",
      " 50  HalfBath       1460 non-null   int64  \n",
      " 51  BedroomAbvGr   1460 non-null   int64  \n",
      " 52  KitchenAbvGr   1460 non-null   int64  \n",
      " 53  KitchenQual    1460 non-null   object \n",
      " 54  TotRmsAbvGrd   1460 non-null   int64  \n",
      " 55  Functional     1460 non-null   object \n",
      " 56  Fireplaces     1460 non-null   int64  \n",
      " 57  FireplaceQu    770 non-null    object \n",
      " 58  GarageType     1379 non-null   object \n",
      " 59  GarageYrBlt    1379 non-null   float64\n",
      " 60  GarageFinish   1379 non-null   object \n",
      " 61  GarageCars     1460 non-null   int64  \n",
      " 62  GarageArea     1460 non-null   int64  \n",
      " 63  GarageQual     1379 non-null   object \n",
      " 64  GarageCond     1379 non-null   object \n",
      " 65  PavedDrive     1460 non-null   object \n",
      " 66  WoodDeckSF     1460 non-null   int64  \n",
      " 67  OpenPorchSF    1460 non-null   int64  \n",
      " 68  EnclosedPorch  1460 non-null   int64  \n",
      " 69  3SsnPorch      1460 non-null   int64  \n",
      " 70  ScreenPorch    1460 non-null   int64  \n",
      " 71  PoolArea       1460 non-null   int64  \n",
      " 72  PoolQC         7 non-null      object \n",
      " 73  Fence          281 non-null    object \n",
      " 74  MiscFeature    54 non-null     object \n",
      " 75  MiscVal        1460 non-null   int64  \n",
      " 76  MoSold         1460 non-null   int64  \n",
      " 77  YrSold         1460 non-null   int64  \n",
      " 78  SaleType       1460 non-null   object \n",
      " 79  SaleCondition  1460 non-null   object \n",
      " 80  SalePrice      1460 non-null   int64  \n",
      "dtypes: float64(5), int64(33), object(43)\n",
      "memory usage: 924.0+ KB\n"
     ]
    }
   ],
   "source": [
    "df.info()"
   ]
  },
  {
   "cell_type": "code",
   "execution_count": 16,
   "id": "3d6c7dcc",
   "metadata": {
    "scrolled": true
   },
   "outputs": [],
   "source": [
    "# df.isnull().sum()"
   ]
  },
  {
   "cell_type": "code",
   "execution_count": 12,
   "id": "54429ddf",
   "metadata": {},
   "outputs": [
    {
     "data": {
      "text/plain": [
       "<AxesSubplot:>"
      ]
     },
     "execution_count": 12,
     "metadata": {},
     "output_type": "execute_result"
    },
    {
     "data": {
      "image/png": "[encoded data removed]",
      "text/plain": [
       "<Figure size 1800x1800 with 2 Axes>"
      ]
     },
     "metadata": {
      "needs_background": "light"
     },
     "output_type": "display_data"
    }
   ],
   "source": [
    "# Visualizing the data using matplotlib & Seaborn\n",
    "plt.figure(figsize = (25,25))\n",
    "sns.heatmap(df.isnull())"
   ]
  },
  {
   "cell_type": "code",
   "execution_count": 27,
   "id": "efd9bf9e",
   "metadata": {},
   "outputs": [
    {
     "data": {
      "text/plain": [
       "Id                0.000000\n",
       "MSSubClass        0.342466\n",
       "MSZoning          0.136986\n",
       "LotFrontage      17.945205\n",
       "LotArea           0.273973\n",
       "Street            0.000000\n",
       "Alley            93.698630\n",
       "LotShape          0.000000\n",
       "LandContour       0.000000\n",
       "Utilities         0.000000\n",
       "Unnamed: 10       0.000000\n",
       "LandSlope         0.000000\n",
       "Neighborhood      0.000000\n",
       "Condition1        0.000000\n",
       "Condition2        0.000000\n",
       "BldgType          0.000000\n",
       "HouseStyle        0.000000\n",
       "OverallQual       0.000000\n",
       "OverallCond       0.000000\n",
       "YearBuilt         0.000000\n",
       "YearRemodAdd      0.000000\n",
       "RoofStyle         0.000000\n",
       "RoofMatl          0.000000\n",
       "Exterior1st       0.000000\n",
       "Exterior2nd       0.000000\n",
       "MasVnrType        0.547945\n",
       "MasVnrArea        0.547945\n",
       "ExterQual         0.000000\n",
       "ExterCond         0.000000\n",
       "Foundation        0.000000\n",
       "BsmtQual          2.534247\n",
       "BsmtCond          2.534247\n",
       "BsmtExposure      2.602740\n",
       "BsmtFinType1      2.534247\n",
       "BsmtFinSF1        0.000000\n",
       "BsmtFinType2      2.602740\n",
       "BsmtFinSF2        0.000000\n",
       "BsmtUnfSF         0.000000\n",
       "TotalBsmtSF       0.000000\n",
       "Heating           0.000000\n",
       "HeatingQC         0.000000\n",
       "CentralAir        0.000000\n",
       "Electrical        0.068493\n",
       "1stFlrSF          0.000000\n",
       "2ndFlrSF          0.000000\n",
       "LowQualFinSF      0.000000\n",
       "GrLivArea         0.000000\n",
       "BsmtFullBath      0.000000\n",
       "BsmtHalfBath      0.000000\n",
       "FullBath          0.000000\n",
       "HalfBath          0.000000\n",
       "BedroomAbvGr      0.000000\n",
       "KitchenAbvGr      0.000000\n",
       "KitchenQual       0.000000\n",
       "TotRmsAbvGrd      0.000000\n",
       "Functional        0.000000\n",
       "Fireplaces        0.000000\n",
       "FireplaceQu      47.260274\n",
       "GarageType        5.547945\n",
       "GarageYrBlt       5.547945\n",
       "GarageFinish      5.547945\n",
       "GarageCars        0.000000\n",
       "GarageArea        0.000000\n",
       "GarageQual        5.547945\n",
       "GarageCond        5.547945\n",
       "PavedDrive        0.000000\n",
       "WoodDeckSF        0.000000\n",
       "OpenPorchSF       0.000000\n",
       "EnclosedPorch     0.000000\n",
       "3SsnPorch         0.000000\n",
       "ScreenPorch       0.000000\n",
       "PoolArea          0.000000\n",
       "PoolQC           99.520548\n",
       "Fence            80.753425\n",
       "MiscFeature      96.301370\n",
       "MiscVal           0.000000\n",
       "MoSold            0.000000\n",
       "YrSold            0.000000\n",
       "SaleType          0.000000\n",
       "SaleCondition     0.000000\n",
       "SalePrice         0.000000\n",
       "dtype: float64"
      ]
     },
     "execution_count": 27,
     "metadata": {},
     "output_type": "execute_result"
    }
   ],
   "source": [
    "null_values_percentage = df.isnull().sum()/df.shape[0]*100\n",
    "null_values_percentage"
   ]
  },
  {
   "cell_type": "code",
   "execution_count": 28,
   "id": "a52aec86",
   "metadata": {},
   "outputs": [
    {
     "data": {
      "text/plain": [
       "Index(['LotFrontage', 'Alley', 'FireplaceQu', 'PoolQC', 'Fence',\n",
       "       'MiscFeature'],\n",
       "      dtype='object')"
      ]
     },
     "execution_count": 28,
     "metadata": {},
     "output_type": "execute_result"
    }
   ],
   "source": [
    "# Now finding the the null values column keys greater than 17 percent\n",
    "null_cols_keys = null_values_percentage[null_values_percentage > 17].keys()\n",
    "null_cols_keys"
   ]
  },
  {
   "cell_type": "code",
   "execution_count": 38,
   "id": "6bb27e81",
   "metadata": {},
   "outputs": [
    {
     "data": {
      "text/plain": [
       "(1460, 75)"
      ]
     },
     "execution_count": 38,
     "metadata": {},
     "output_type": "execute_result"
    }
   ],
   "source": [
    "#now we have to drop those above null values columns belongs to above keys \n",
    "df2= df.drop(columns = null_cols_keys)"
   ]
  },
  {
   "cell_type": "code",
   "execution_count": 39,
   "id": "ec1467b0",
   "metadata": {},
   "outputs": [
    {
     "data": {
      "text/plain": [
       "(1331, 75)"
      ]
     },
     "execution_count": 39,
     "metadata": {},
     "output_type": "execute_result"
    }
   ],
   "source": [
    "# now we have to drop those rows having single null value\n",
    "df3 = df2.dropna()\n",
    "df3.shape"
   ]
  },
  {
   "cell_type": "code",
   "execution_count": 44,
   "id": "b8f3e633",
   "metadata": {},
   "outputs": [
    {
     "data": {
      "text/plain": [
       "Index(['Id', 'MSSubClass', 'LotArea', 'OverallQual', 'OverallCond',\n",
       "       'YearBuilt', 'YearRemodAdd', 'MasVnrArea', 'BsmtFinSF1', 'BsmtFinSF2',\n",
       "       'BsmtUnfSF', 'TotalBsmtSF', '1stFlrSF', '2ndFlrSF', 'LowQualFinSF',\n",
       "       'GrLivArea', 'BsmtFullBath', 'BsmtHalfBath', 'FullBath', 'HalfBath',\n",
       "       'BedroomAbvGr', 'KitchenAbvGr', 'TotRmsAbvGrd', 'Fireplaces',\n",
       "       'GarageYrBlt', 'GarageCars', 'GarageArea', 'WoodDeckSF', 'OpenPorchSF',\n",
       "       'EnclosedPorch', '3SsnPorch', 'ScreenPorch', 'PoolArea', 'MiscVal',\n",
       "       'MoSold', 'YrSold', 'SalePrice'],\n",
       "      dtype='object')"
      ]
     },
     "execution_count": 44,
     "metadata": {},
     "output_type": "execute_result"
    }
   ],
   "source": [
    "#now we have to find out integer and float variables data columns in all dataset using below function\n",
    "df3.select_dtypes(include=['int64','float64']).columns"
   ]
  },
  {
   "cell_type": "code",
   "execution_count": 52,
   "id": "332ed50c",
   "metadata": {},
   "outputs": [
    {
     "data": {
      "text/plain": [
       "<Figure size 1800x1800 with 0 Axes>"
      ]
     },
     "execution_count": 52,
     "metadata": {},
     "output_type": "execute_result"
    },
    {
     "data": {
      "text/plain": [
       "<Figure size 1800x1800 with 0 Axes>"
      ]
     },
     "metadata": {},
     "output_type": "display_data"
    }
   ],
   "source": [
    "# sns.displot(df['MSSubClass'])\n",
    "num_var = [\n",
    "    'Id', 'MSSubClass', 'LotArea', 'OverallQual', 'OverallCond',\n",
    "       'YearBuilt', 'YearRemodAdd', 'MasVnrArea', 'BsmtFinSF1', 'BsmtFinSF2',\n",
    "       'BsmtUnfSF', 'TotalBsmtSF', '1stFlrSF', '2ndFlrSF', 'LowQualFinSF',\n",
    "       'GrLivArea', 'BsmtFullBath', 'BsmtHalfBath', 'FullBath', 'HalfBath',\n",
    "       'BedroomAbvGr', 'KitchenAbvGr', 'TotRmsAbvGrd', 'Fireplaces',\n",
    "       'GarageYrBlt', 'GarageCars', 'GarageArea', 'WoodDeckSF', 'OpenPorchSF',\n",
    "       'EnclosedPorch', '3SsnPorch', 'ScreenPorch', 'PoolArea', 'MiscVal',\n",
    "       'MoSold', 'YrSold', 'SalePrice'\n",
    "]\n",
    "plt.figure(figsize=(25,25))\n",
    "\n",
    "# for i,var in enumerate(num_var):\n",
    "#     plt.subplot(9,4,i+1)\n",
    "#     sns.distplot(df[var],bins=20)  \n",
    "#     sns.distplot(df3[var],bins=20)\n",
    "    "
   ]
  },
  {
   "cell_type": "code",
   "execution_count": 56,
   "id": "a2c67c9c",
   "metadata": {},
   "outputs": [
    {
     "data": {
      "text/plain": [
       "Index(['MSZoning', 'Street', 'LotShape', 'LandContour', 'Utilities',\n",
       "       'Unnamed: 10', 'LandSlope', 'Neighborhood', 'Condition1', 'Condition2',\n",
       "       'BldgType', 'HouseStyle', 'RoofStyle', 'RoofMatl', 'Exterior1st',\n",
       "       'Exterior2nd', 'MasVnrType', 'ExterQual', 'ExterCond', 'Foundation',\n",
       "       'BsmtQual', 'BsmtCond', 'BsmtExposure', 'BsmtFinType1', 'BsmtFinType2',\n",
       "       'Heating', 'HeatingQC', 'CentralAir', 'Electrical', 'KitchenQual',\n",
       "       'Functional', 'GarageType', 'GarageFinish', 'GarageQual', 'GarageCond',\n",
       "       'PavedDrive', 'SaleType', 'SaleCondition'],\n",
       "      dtype='object')"
      ]
     },
     "execution_count": 56,
     "metadata": {},
     "output_type": "execute_result"
    }
   ],
   "source": [
    "# Now let find those columns having data categorical\n",
    "df3.select_dtypes(include=['object']).columns"
   ]
  },
  {
   "cell_type": "code",
   "execution_count": 63,
   "id": "26122b80",
   "metadata": {},
   "outputs": [
    {
     "data": {
      "text/plain": [
       "RL         78.424658\n",
       "RM         14.931507\n",
       "FV          4.452055\n",
       "RH          1.095890\n",
       "C (all)     0.684932\n",
       "12          0.068493\n",
       "15          0.068493\n",
       "16          0.068493\n",
       "11          0.068493\n",
       "Name: MSZoning, dtype: float64"
      ]
     },
     "execution_count": 63,
     "metadata": {},
     "output_type": "execute_result"
    }
   ],
   "source": [
    "# orignal dataset uncleaned counting categorical data groups\n",
    "\n",
    "df['MSZoning'].value_counts()/df.shape[0]*100"
   ]
  },
  {
   "cell_type": "code",
   "execution_count": 64,
   "id": "7b8e65cd",
   "metadata": {},
   "outputs": [
    {
     "data": {
      "text/plain": [
       "RL         79.413974\n",
       "RM         14.350113\n",
       "FV          4.658152\n",
       "RH          0.826446\n",
       "C (all)     0.601052\n",
       "15          0.075131\n",
       "11          0.075131\n",
       "Name: MSZoning, dtype: float64"
      ]
     },
     "execution_count": 64,
     "metadata": {},
     "output_type": "execute_result"
    }
   ],
   "source": [
    "#cleaned dataset \n",
    "df3['MSZoning'].value_counts()/df3.shape[0]*100"
   ]
  },
  {
   "cell_type": "code",
   "execution_count": 68,
   "id": "f98cb6c6",
   "metadata": {},
   "outputs": [
    {
     "data": {
      "text/html": [
       "<div>\n",
       "<style scoped>\n",
       "    .dataframe tbody tr th:only-of-type {\n",
       "        vertical-align: middle;\n",
       "    }\n",
       "\n",
       "    .dataframe tbody tr th {\n",
       "        vertical-align: top;\n",
       "    }\n",
       "\n",
       "    .dataframe thead th {\n",
       "        text-align: right;\n",
       "    }\n",
       "</style>\n",
       "<table border=\"1\" class=\"dataframe\">\n",
       "  <thead>\n",
       "    <tr style=\"text-align: right;\">\n",
       "      <th></th>\n",
       "      <th>MSZoning_orignal</th>\n",
       "      <th>MSZoning_clean</th>\n",
       "    </tr>\n",
       "  </thead>\n",
       "  <tbody>\n",
       "    <tr>\n",
       "      <th>RL</th>\n",
       "      <td>78.424658</td>\n",
       "      <td>79.413974</td>\n",
       "    </tr>\n",
       "    <tr>\n",
       "      <th>RM</th>\n",
       "      <td>14.931507</td>\n",
       "      <td>14.350113</td>\n",
       "    </tr>\n",
       "    <tr>\n",
       "      <th>FV</th>\n",
       "      <td>4.452055</td>\n",
       "      <td>4.658152</td>\n",
       "    </tr>\n",
       "    <tr>\n",
       "      <th>RH</th>\n",
       "      <td>1.095890</td>\n",
       "      <td>0.826446</td>\n",
       "    </tr>\n",
       "    <tr>\n",
       "      <th>C (all)</th>\n",
       "      <td>0.684932</td>\n",
       "      <td>0.601052</td>\n",
       "    </tr>\n",
       "    <tr>\n",
       "      <th>12</th>\n",
       "      <td>0.068493</td>\n",
       "      <td>NaN</td>\n",
       "    </tr>\n",
       "    <tr>\n",
       "      <th>15</th>\n",
       "      <td>0.068493</td>\n",
       "      <td>0.075131</td>\n",
       "    </tr>\n",
       "    <tr>\n",
       "      <th>16</th>\n",
       "      <td>0.068493</td>\n",
       "      <td>NaN</td>\n",
       "    </tr>\n",
       "    <tr>\n",
       "      <th>11</th>\n",
       "      <td>0.068493</td>\n",
       "      <td>0.075131</td>\n",
       "    </tr>\n",
       "  </tbody>\n",
       "</table>\n",
       "</div>"
      ],
      "text/plain": [
       "         MSZoning_orignal  MSZoning_clean\n",
       "RL              78.424658       79.413974\n",
       "RM              14.931507       14.350113\n",
       "FV               4.452055        4.658152\n",
       "RH               1.095890        0.826446\n",
       "C (all)          0.684932        0.601052\n",
       "12               0.068493             NaN\n",
       "15               0.068493        0.075131\n",
       "16               0.068493             NaN\n",
       "11               0.068493        0.075131"
      ]
     },
     "execution_count": 68,
     "metadata": {},
     "output_type": "execute_result"
    }
   ],
   "source": [
    "# Now to concat both just for MSZoning we will use\n",
    "pd.concat([df['MSZoning'].value_counts()/df.shape[0]*100,df3['MSZoning'].value_counts()/df3.shape[0]*100], axis=1\n",
    "        ,keys=['MSZoning_orignal','MSZoning_clean'])"
   ]
  },
  {
   "cell_type": "code",
   "execution_count": 70,
   "id": "7d6a1aad",
   "metadata": {},
   "outputs": [
    {
     "data": {
      "text/html": [
       "<div>\n",
       "<style scoped>\n",
       "    .dataframe tbody tr th:only-of-type {\n",
       "        vertical-align: middle;\n",
       "    }\n",
       "\n",
       "    .dataframe tbody tr th {\n",
       "        vertical-align: top;\n",
       "    }\n",
       "\n",
       "    .dataframe thead th {\n",
       "        text-align: right;\n",
       "    }\n",
       "</style>\n",
       "<table border=\"1\" class=\"dataframe\">\n",
       "  <thead>\n",
       "    <tr style=\"text-align: right;\">\n",
       "      <th></th>\n",
       "      <th>Utilities_orignal</th>\n",
       "      <th>Utilities_clean</th>\n",
       "    </tr>\n",
       "  </thead>\n",
       "  <tbody>\n",
       "    <tr>\n",
       "      <th>AllPub</th>\n",
       "      <td>99.931507</td>\n",
       "      <td>99.924869</td>\n",
       "    </tr>\n",
       "    <tr>\n",
       "      <th>NoSeWa</th>\n",
       "      <td>0.068493</td>\n",
       "      <td>0.075131</td>\n",
       "    </tr>\n",
       "  </tbody>\n",
       "</table>\n",
       "</div>"
      ],
      "text/plain": [
       "        Utilities_orignal  Utilities_clean\n",
       "AllPub          99.931507        99.924869\n",
       "NoSeWa           0.068493         0.075131"
      ]
     },
     "execution_count": 70,
     "metadata": {},
     "output_type": "execute_result"
    }
   ],
   "source": [
    "def cat_var_dist(var):\n",
    "    return pd.concat([df[var].value_counts()/df.shape[0]*100,df3[var].value_counts()/df3.shape[0]*100], axis=1\n",
    "        ,keys=[var+'_orignal',var+'_clean'])\n",
    "\n",
    "cat_var_dist('Utilities')"
   ]
  },
  {
   "cell_type": "code",
   "execution_count": 72,
   "id": "c0cd7f51",
   "metadata": {},
   "outputs": [
    {
     "name": "stdout",
     "output_type": "stream",
     "text": [
      "         MSZoning_orignal  MSZoning_clean\n",
      "RL              78.424658       79.413974\n",
      "RM              14.931507       14.350113\n",
      "FV               4.452055        4.658152\n",
      "RH               1.095890        0.826446\n",
      "C (all)          0.684932        0.601052\n",
      "12               0.068493             NaN\n",
      "15               0.068493        0.075131\n",
      "16               0.068493             NaN\n",
      "11               0.068493        0.075131\n",
      "      Street_orignal  Street_clean\n",
      "Pave       99.589041     99.624343\n",
      "Grvl        0.410959      0.375657\n",
      "     LotShape_orignal  LotShape_clean\n",
      "Reg         63.356164       62.133734\n",
      "IR1         33.150685       34.109692\n",
      "IR2          2.808219        3.005259\n",
      "IR3          0.684932        0.751315\n",
      "     LandContour_orignal  LandContour_clean\n",
      "Lvl            89.794521          90.082645\n",
      "Bnk             4.315068           3.906837\n",
      "HLS             3.424658           3.606311\n",
      "Low             2.465753           2.404207\n",
      "        Utilities_orignal  Utilities_clean\n",
      "AllPub          99.931507        99.924869\n",
      "NoSeWa           0.068493         0.075131\n",
      "         Unnamed: 10_orignal  Unnamed: 10_clean\n",
      "Inside             72.054795          71.600301\n",
      "Corner             18.013699          18.181818\n",
      "CulDSac             6.438356           6.761833\n",
      "FR2                 3.219178           3.155522\n",
      "FR3                 0.273973           0.300526\n",
      "     LandSlope_orignal  LandSlope_clean\n",
      "Gtl          94.657534        94.515402\n",
      "Mod           4.452055         4.583020\n",
      "Sev           0.890411         0.901578\n",
      "         Neighborhood_orignal  Neighborhood_clean\n",
      "NAmes               15.410959           15.702479\n",
      "CollgCr             10.273973           10.818933\n",
      "OldTown              7.739726            7.513148\n",
      "Edwards              6.849315            5.259204\n",
      "Somerst              5.890411            6.160781\n",
      "Gilbert              5.410959            5.785124\n",
      "NridgHt              5.273973            5.634861\n",
      "Sawyer               5.068493            5.184072\n",
      "NWAmes               5.000000            5.409467\n",
      "SawyerW              4.041096            3.981968\n",
      "BrkSide              3.972603            3.531180\n",
      "Crawfor              3.493151            3.681443\n",
      "Mitchel              3.356164            3.080391\n",
      "NoRidge              2.808219            3.080391\n",
      "Timber               2.602740            2.779865\n",
      "IDOTRR               2.534247            2.178813\n",
      "ClearCr              1.917808            1.953418\n",
      "SWISU                1.712329            1.502630\n",
      "StoneBr              1.712329            1.878287\n",
      "MeadowV              1.164384            0.901578\n",
      "Blmngtn              1.164384            1.277235\n",
      "BrDale               1.095890            1.126972\n",
      "Veenker              0.753425            0.751315\n",
      "NPkVill              0.616438            0.676183\n",
      "Blueste              0.136986            0.150263\n",
      "        Condition1_orignal  Condition1_clean\n",
      "Norm             86.301370         86.927122\n",
      "Feedr             5.547945          4.658152\n",
      "Artery            3.287671          3.230654\n",
      "RRAn              1.780822          1.953418\n",
      "PosN              1.301370          1.352367\n",
      "RRAe              0.753425          0.751315\n",
      "PosA              0.547945          0.601052\n",
      "RRNn              0.342466          0.375657\n",
      "RRNe              0.136986          0.150263\n",
      "        Condition2_orignal  Condition2_clean\n",
      "Norm             98.972603         98.948159\n",
      "Feedr             0.410959          0.375657\n",
      "Artery            0.136986          0.150263\n",
      "PosN              0.136986          0.150263\n",
      "RRNn              0.136986          0.150263\n",
      "RRAn              0.068493          0.075131\n",
      "RRAe              0.068493          0.075131\n",
      "PosA              0.068493          0.075131\n",
      "        BldgType_orignal  BldgType_clean\n",
      "1Fam           83.561644       84.973704\n",
      "TwnhsE          7.808219        8.414726\n",
      "Duplex          3.561644        2.103681\n",
      "Twnhs           2.945205        2.854996\n",
      "2fmCon          2.123288        1.652893\n",
      "        HouseStyle_orignal  HouseStyle_clean\n",
      "1Story           49.726027         49.135988\n",
      "2Story           30.479452         31.780616\n",
      "1.5Fin           10.547945          9.992487\n",
      "SLvl              4.452055          4.808415\n",
      "SFoyer            2.534247          2.253944\n",
      "1.5Unf            0.958904          0.826446\n",
      "2.5Unf            0.753425          0.751315\n",
      "2.5Fin            0.547945          0.450789\n",
      "         RoofStyle_orignal  RoofStyle_clean\n",
      "Gable            78.150685        77.385424\n",
      "Hip              19.589041        20.435763\n",
      "Flat              0.890411         0.826446\n",
      "Gambrel           0.753425         0.751315\n",
      "Mansard           0.479452         0.450789\n",
      "Shed              0.136986         0.150263\n",
      "         RoofMatl_orignal  RoofMatl_clean\n",
      "CompShg         98.219178       98.196844\n",
      "Tar&Grv          0.753425        0.676183\n",
      "WdShngl          0.410959        0.450789\n",
      "WdShake          0.342466        0.375657\n",
      "Roll             0.068493        0.075131\n",
      "ClyTile          0.068493        0.075131\n",
      "Metal            0.068493        0.075131\n",
      "Membran          0.068493        0.075131\n",
      "         Exterior1st_orignal  Exterior1st_clean\n",
      "VinylSd            35.273973          36.213373\n",
      "HdBoard            15.205479          15.777611\n",
      "MetalSd            15.068493          15.026296\n",
      "Wd Sdng            14.109589          13.673929\n",
      "Plywood             7.397260           7.513148\n",
      "CemntBd             4.178082           3.906837\n",
      "BrkFace             3.424658           3.305785\n",
      "WdShing             1.780822           1.502630\n",
      "Stucco              1.712329           1.577761\n",
      "AsbShng             1.369863           1.126972\n",
      "Stone               0.136986           0.150263\n",
      "BrkComm             0.136986           0.075131\n",
      "ImStucc             0.068493           0.075131\n",
      "AsphShn             0.068493                NaN\n",
      "CBlock              0.068493           0.075131\n",
      "         Exterior2nd_orignal  Exterior2nd_clean\n",
      "VinylSd            34.520548          35.386927\n",
      "MetalSd            14.657534          14.725770\n",
      "HdBoard            14.178082          14.725770\n",
      "Wd Sdng            13.493151          13.223140\n",
      "Plywood             9.726027           9.541698\n",
      "CmentBd             4.109589           3.831705\n",
      "Wd Shng             2.602740           2.329076\n",
      "Stucco              1.780822           1.728024\n",
      "BrkFace             1.712329           1.652893\n",
      "AsbShng             1.369863           1.202104\n",
      "ImStucc             0.684932           0.751315\n",
      "Brk Cmn             0.479452           0.450789\n",
      "Stone               0.342466           0.150263\n",
      "AsphShn             0.205479           0.150263\n",
      "CBlock              0.068493           0.075131\n",
      "Other               0.068493           0.075131\n",
      "         MasVnrType_orignal  MasVnrType_clean\n",
      "None              59.178082         57.099925\n",
      "BrkFace           30.479452         32.381668\n",
      "Stone              8.767123          9.391435\n",
      "BrkCmn             1.027397          1.126972\n",
      "    ExterQual_orignal  ExterQual_clean\n",
      "TA          62.054795        60.030053\n",
      "Gd          33.424658        35.612322\n",
      "Ex           3.561644         3.831705\n",
      "Fa           0.958904         0.525920\n",
      "    ExterCond_orignal  ExterCond_clean\n",
      "TA          87.808219        88.354621\n",
      "Gd          10.000000        10.293013\n",
      "Fa           1.917808         1.202104\n",
      "Ex           0.205479         0.150263\n",
      "Po           0.068493              NaN\n",
      "        Foundation_orignal  Foundation_clean\n",
      "PConc            44.315068         46.356123\n",
      "CBlock           43.424658         43.425995\n",
      "BrkTil           10.000000          9.616829\n",
      "Slab              1.643836               NaN\n",
      "Stone             0.410959          0.450789\n",
      "Wood              0.205479          0.150263\n",
      "    BsmtQual_orignal  BsmtQual_clean\n",
      "TA         44.452055       44.552968\n",
      "Gd         42.328767       44.102179\n",
      "Ex          8.287671        8.940646\n",
      "Fa          2.397260        2.404207\n",
      "    BsmtCond_orignal  BsmtCond_clean\n",
      "TA         89.794521       92.486852\n",
      "Gd          4.452055        4.583020\n",
      "Fa          3.082192        2.854996\n",
      "Po          0.136986        0.075131\n",
      "    BsmtExposure_orignal  BsmtExposure_clean\n",
      "No             65.273973           66.491360\n",
      "Av             15.136986           15.852742\n",
      "Gd              9.178082            9.466566\n",
      "Mn              7.808219            8.189331\n",
      "     BsmtFinType1_orignal  BsmtFinType1_clean\n",
      "Unf             29.452055           29.376409\n",
      "GLQ             28.630137           29.977461\n",
      "ALQ             15.068493           15.477085\n",
      "BLQ             10.136986           10.593539\n",
      "Rec              9.109589            9.391435\n",
      "LwQ              5.068493            5.184072\n",
      "     BsmtFinType2_orignal  BsmtFinType2_clean\n",
      "Unf             86.027397           87.903832\n",
      "Rec              3.698630            3.981968\n",
      "LwQ              3.150685            3.456048\n",
      "BLQ              2.260274            2.329076\n",
      "ALQ              1.301370            1.427498\n",
      "GLQ              0.958904            0.901578\n",
      "       Heating_orignal  Heating_clean\n",
      "GasA         97.808219      98.497370\n",
      "GasW          1.232877       1.202104\n",
      "Grav          0.479452       0.225394\n",
      "Wall          0.273973            NaN\n",
      "OthW          0.136986       0.075131\n",
      "Floor         0.068493            NaN\n",
      "    HeatingQC_orignal  HeatingQC_clean\n",
      "Ex          50.753425        52.441773\n",
      "TA          29.315068        28.549962\n",
      "Gd          16.506849        16.228400\n",
      "Fa           3.356164         2.704733\n",
      "Po           0.068493         0.075131\n",
      "   CentralAir_orignal  CentralAir_clean\n",
      "Y           93.493151          95.41698\n",
      "N            6.506849           4.58302\n",
      "       Electrical_orignal  Electrical_clean\n",
      "SBrkr           91.369863         92.787378\n",
      "FuseA            6.438356          5.709992\n",
      "FuseF            1.849315          1.277235\n",
      "FuseP            0.205479          0.150263\n",
      "Mix              0.068493          0.075131\n",
      "    KitchenQual_orignal  KitchenQual_clean\n",
      "TA            50.342466          48.610068\n",
      "Gd            40.136986          42.374155\n",
      "Ex             6.849315           7.287754\n",
      "Fa             2.671233           1.728024\n",
      "      Functional_orignal  Functional_clean\n",
      "Typ            93.150685         93.688956\n",
      "Min2            2.328767          2.253944\n",
      "Min1            2.123288          2.103681\n",
      "Mod             1.027397          0.826446\n",
      "Maj1            0.958904          0.751315\n",
      "Maj2            0.342466          0.300526\n",
      "Sev             0.068493          0.075131\n",
      "         GarageType_orignal  GarageType_clean\n",
      "Attchd            59.589041         63.561232\n",
      "Detchd            26.506849         27.648385\n",
      "BuiltIn            6.027397          6.386176\n",
      "Basment            1.301370          1.427498\n",
      "CarPort            0.616438          0.525920\n",
      "2Types             0.410959          0.450789\n"
     ]
    },
    {
     "name": "stdout",
     "output_type": "stream",
     "text": [
      "     GarageFinish_orignal  GarageFinish_clean\n",
      "Unf             41.438356           43.425995\n",
      "RFn             28.904110           30.653644\n",
      "Fin             24.109589           25.920361\n",
      "    GarageQual_orignal  GarageQual_clean\n",
      "TA           89.794521         94.891059\n",
      "Fa            3.287671          3.606311\n",
      "Gd            0.958904          1.051841\n",
      "Po            0.205479          0.225394\n",
      "Ex            0.205479          0.225394\n",
      "    GarageCond_orignal  GarageCond_clean\n",
      "TA           90.821918         96.168295\n",
      "Fa            2.397260          2.479339\n",
      "Gd            0.616438          0.676183\n",
      "Po            0.479452          0.525920\n",
      "Ex            0.136986          0.150263\n",
      "   PavedDrive_orignal  PavedDrive_clean\n",
      "Y           91.780822          93.91435\n",
      "N            6.164384           4.05710\n",
      "P            2.054795           2.02855\n",
      "       SaleType_orignal  SaleType_clean\n",
      "WD            86.780822       86.551465\n",
      "New            8.356164        8.715252\n",
      "COD            2.945205        3.155522\n",
      "ConLD          0.616438        0.450789\n",
      "ConLI          0.342466        0.300526\n",
      "ConLw          0.342466        0.300526\n",
      "CWD            0.273973        0.300526\n",
      "Oth            0.205479        0.075131\n",
      "Con            0.136986        0.150263\n",
      "         SaleCondition_orignal  SaleCondition_clean\n",
      "Normal               82.054795            82.569497\n",
      "Partial               8.561644             8.940646\n",
      "Abnorml               6.917808             6.386176\n",
      "Family                1.369863             1.502630\n",
      "Alloca                0.821918             0.525920\n",
      "AdjLand               0.273973             0.075131\n"
     ]
    }
   ],
   "source": [
    "var = ['MSZoning', 'Street', 'LotShape', 'LandContour', 'Utilities',\n",
    "       'Unnamed: 10', 'LandSlope', 'Neighborhood', 'Condition1', 'Condition2',\n",
    "       'BldgType', 'HouseStyle', 'RoofStyle', 'RoofMatl', 'Exterior1st',\n",
    "       'Exterior2nd', 'MasVnrType', 'ExterQual', 'ExterCond', 'Foundation',\n",
    "       'BsmtQual', 'BsmtCond', 'BsmtExposure', 'BsmtFinType1', 'BsmtFinType2',\n",
    "       'Heating', 'HeatingQC', 'CentralAir', 'Electrical', 'KitchenQual',\n",
    "       'Functional', 'GarageType', 'GarageFinish', 'GarageQual', 'GarageCond',\n",
    "       'PavedDrive', 'SaleType', 'SaleCondition']\n",
    "\n",
    "for i in var:\n",
    "    val = cat_var_dist(i)\n",
    "    print(val)"
   ]
  },
  {
   "cell_type": "code",
   "execution_count": null,
   "id": "6b1735aa",
   "metadata": {},
   "outputs": [],
   "source": []
  }
 ],
 "metadata": {
  "kernelspec": {
   "display_name": "Python 3",
   "language": "python",
   "name": "python3"
  },
  "language_info": {
   "codemirror_mode": {
    "name": "ipython",
    "version": 3
   },
   "file_extension": ".py",
   "mimetype": "text/x-python",
   "name": "python",
   "nbconvert_exporter": "python",
   "pygments_lexer": "ipython3",
   "version": "3.8.8"
  }
 },
 "nbformat": 4,
 "nbformat_minor": 5
}
